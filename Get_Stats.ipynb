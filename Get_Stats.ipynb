{
 "cells": [
  {
   "cell_type": "code",
   "execution_count": 116,
   "metadata": {
    "collapsed": true
   },
   "outputs": [],
   "source": [
    "import re \n",
    "import numpy as np\n",
    "import os\n",
    "import pandas as pd"
   ]
  },
  {
   "cell_type": "code",
   "execution_count": 125,
   "metadata": {
    "collapsed": false,
    "scrolled": true
   },
   "outputs": [
    {
     "name": "stdout",
     "output_type": "stream",
     "text": [
      "\\begin{tabular}{lrrrrrrrrr}\n",
      "\\toprule\n",
      "{} &          0 &          1 &       2 &          3 &          4 &          5 &          6 &           7 &            8 \\\\\n",
      "\\midrule\n",
      "0 &    1.00000 &    1.00000 &    1.00 &    1.00000 &    1.00000 &    1.00000 &     1.0000 &     1.00000 &     1.000000 \\\\\n",
      "1 &    0.66000 &    0.68000 &    0.60 &    0.92000 &    1.18000 &    1.40000 &     7.0800 &    14.82000 &     7.632653 \\\\\n",
      "2 &    2.48000 &    2.48000 &    2.36 &    3.32000 &    3.96000 &    4.24000 &    19.5400 &    41.88000 &    18.857143 \\\\\n",
      "3 &  230.00000 &  235.48000 &  226.88 &  774.94000 &  788.74000 &  807.12000 &  4952.0000 &  5970.56000 &  5034.102041 \\\\\n",
      "4 &    0.74000 &    0.84000 &    0.76 &    1.60000 &    1.98000 &    4.30000 &    36.3200 &   120.90000 &    50.020408 \\\\\n",
      "5 &   19.00000 &   19.00000 &   19.00 &   19.02000 &   19.06000 &   19.06000 &    23.0000 &    23.00000 &    23.000000 \\\\\n",
      "6 &    0.00016 &    0.00008 &    0.00 &    0.00024 &    0.00064 &    0.00056 &     0.0152 &     0.01528 &     0.015265 \\\\\n",
      "\\bottomrule\n",
      "\\end{tabular}\n",
      "\n"
     ]
    }
   ],
   "source": [
    "#MINISAT Deterministic Extended \n",
    "folder = \"AllOut/NormOut/\"\n",
    "list_alles = ['MiniE', 'MiniM', 'MiniH', 'NormalE', 'NormalM', 'NormalH', 'LargeE', 'LargeM', 'LargeH']\n",
    "alles = []\n",
    "for aa in list_alles: \n",
    "    total_stats = []\n",
    "    for file in os.listdir(folder+aa+'/'): \n",
    "        f = open(folder+aa+'/'+file, \"r\")\n",
    "        f = f.read();\n",
    "        f = f.split('=')\n",
    "        f = [x for x in f if x]\n",
    "        stats = f[-1]\n",
    "        stats = re.sub('\\(.*\\)', '', stats)\n",
    "        stats = stats.strip()\n",
    "        stats = stats.split('\\n')\n",
    "        all_stats = []\n",
    "        for st in stats[:-2]: \n",
    "            num_stats = st.split(':')[1]\n",
    "            num_stats = re.sub('MB', '', num_stats)\n",
    "            num_stats = re.sub('s', '', num_stats).strip()\n",
    "            all_stats.append(float(num_stats))\n",
    "        total_stats.append(all_stats)\n",
    "    alles.append(np.mean(total_stats, axis=0))\n",
    "print(pd.DataFrame(alles).T.to_latex())"
   ]
  },
  {
   "cell_type": "code",
   "execution_count": 128,
   "metadata": {
    "collapsed": false
   },
   "outputs": [
    {
     "name": "stdout",
     "output_type": "stream",
     "text": [
      "\\begin{tabular}{lrrrrrrrrr}\n",
      "\\toprule\n",
      "{} &       0 &       1 &       2 &           3 &           4 &           5 &             6 &             7 &             8 \\\\\n",
      "\\midrule\n",
      "0 &    1.00 &    1.00 &    1.00 &     1.00000 &     1.02000 &     1.00000 &       3.84000 &       4.34000 &      3.122449 \\\\\n",
      "1 &    2.40 &    2.12 &    1.60 &    12.58000 &    17.32000 &    15.22000 &    1693.52000 &    2672.42000 &    913.795918 \\\\\n",
      "2 &    6.06 &    5.72 &    4.58 &    28.42000 &    34.84000 &    29.30000 &    3065.14000 &    4870.90000 &   1818.183673 \\\\\n",
      "3 &  286.04 &  283.30 &  264.50 &  1390.46000 &  1671.24000 &  1499.10000 &  134406.90000 &  211940.12000 &  78464.040816 \\\\\n",
      "4 &    4.32 &    3.88 &    2.92 &    74.04000 &   129.36000 &    98.00000 &   35147.72000 &   60675.78000 &  18072.408163 \\\\\n",
      "5 &   19.00 &   19.00 &   19.00 &    19.08000 &    19.06000 &    19.08000 &      23.00000 &      23.00000 &     23.000000 \\\\\n",
      "6 &    0.00 &    0.00 &    0.00 &     0.00016 &     0.00024 &     0.00032 &       0.04248 &       0.06656 &      0.028082 \\\\\n",
      "\\bottomrule\n",
      "\\end{tabular}\n",
      "\n"
     ]
    }
   ],
   "source": [
    "#MINISAT Deterministic Efficient\n",
    "folder = \"AllOut/effOut/\"\n",
    "list_alles = ['MiniE', 'MiniM', 'MiniH', 'NormalE', 'NormalM', 'NormalH', 'LargeE', 'LargeM', 'LargeH']\n",
    "alles = []\n",
    "for aa in list_alles: \n",
    "    total_stats = []\n",
    "    for file in os.listdir(folder+aa+'/'): \n",
    "        f = open(folder+aa+'/'+file, \"r\")\n",
    "        f = f.read();\n",
    "        f = f.split('=')\n",
    "        f = [x for x in f if x]\n",
    "        stats = f[-1]\n",
    "        stats = re.sub('\\(.*\\)', '', stats)\n",
    "        stats = stats.strip()\n",
    "        stats = stats.split('\\n')\n",
    "        all_stats = []\n",
    "        for st in stats[:-2]: \n",
    "            num_stats = st.split(':')[1]\n",
    "            num_stats = re.sub('MB', '', num_stats)\n",
    "            num_stats = re.sub('s', '', num_stats).strip()\n",
    "            all_stats.append(float(num_stats))\n",
    "        total_stats.append(all_stats)\n",
    "    alles.append(np.mean(total_stats, axis=0))\n",
    "print(pd.DataFrame(alles).T.to_latex())"
   ]
  },
  {
   "cell_type": "code",
   "execution_count": 129,
   "metadata": {
    "collapsed": false
   },
   "outputs": [
    {
     "name": "stdout",
     "output_type": "stream",
     "text": [
      "\\begin{tabular}{lrrrrrrrrr}\n",
      "\\toprule\n",
      "{} &       0 &       1 &       2 &          3 &           4 &           5 &             6 &             7 &              8 \\\\\n",
      "\\midrule\n",
      "0 &    1.00 &    1.00 &    1.00 &     1.0200 &     1.06000 &     1.00000 &      10.34000 &      14.08000 &       7.489796 \\\\\n",
      "1 &    3.40 &    2.80 &    1.68 &    19.0200 &    20.54000 &    19.66000 &    1788.54000 &    2695.70000 &    1160.551020 \\\\\n",
      "2 &    8.24 &    6.36 &    5.34 &    49.5400 &    50.26000 &    46.86000 &    4261.28000 &    6315.10000 &    2852.122449 \\\\\n",
      "3 &  312.14 &  300.76 &  263.50 &  1714.8200 &  1793.94000 &  1762.94000 &  150341.28000 &  226994.84000 &  104317.530612 \\\\\n",
      "4 &    7.76 &    5.54 &    2.80 &   129.4400 &   137.90000 &   119.66000 &   34570.82000 &   56688.40000 &   22826.428571 \\\\\n",
      "5 &   19.00 &   19.00 &   19.00 &    19.0800 &    19.06000 &    19.08000 &      23.00000 &      23.00000 &      23.000000 \\\\\n",
      "6 &    0.00 &    0.00 &    0.00 &     0.0004 &     0.00056 &     0.00016 &       0.04376 &       0.06568 &       0.032898 \\\\\n",
      "\\bottomrule\n",
      "\\end{tabular}\n",
      "\n"
     ]
    }
   ],
   "source": [
    "#MINISAT Non-Deterministic Efficient\n",
    "folder = \"AllOut/EffOutND/\"\n",
    "list_alles = ['MiniE', 'MiniM', 'MiniH', 'NormalE', 'NormalM', 'NormalH', 'LargeE', 'LargeM', 'LargeH']\n",
    "alles = []\n",
    "for aa in list_alles: \n",
    "    total_stats = []\n",
    "    for file in os.listdir(folder+aa+'/'): \n",
    "        f = open(folder+aa+'/'+file, \"r\")\n",
    "        f = f.read();\n",
    "        f = f.split('=')\n",
    "        f = [x for x in f if x]\n",
    "        stats = f[-1]\n",
    "        stats = re.sub('\\(.*\\)', '', stats)\n",
    "        stats = stats.strip()\n",
    "        stats = stats.split('\\n')\n",
    "        all_stats = []\n",
    "        for st in stats[:-2]: \n",
    "            num_stats = st.split(':')[1]\n",
    "            num_stats = re.sub('MB', '', num_stats)\n",
    "            num_stats = re.sub('s', '', num_stats).strip()\n",
    "            all_stats.append(float(num_stats))\n",
    "        total_stats.append(all_stats)\n",
    "    alles.append(np.mean(total_stats, axis=0))\n",
    "print(pd.DataFrame(alles).T.to_latex())"
   ]
  },
  {
   "cell_type": "code",
   "execution_count": 130,
   "metadata": {
    "collapsed": false
   },
   "outputs": [
    {
     "name": "stdout",
     "output_type": "stream",
     "text": [
      "\\begin{tabular}{lrrrrrrrrr}\n",
      "\\toprule\n",
      "{} &       0 &          1 &          2 &          3 &        4 &          5 &             6 &             7 &              8 \\\\\n",
      "\\midrule\n",
      "0 &    1.00 &    1.00000 &    1.00000 &     1.0200 &     1.02 &     1.0200 &       3.96000 &       4.50000 &       3.183673 \\\\\n",
      "1 &    2.32 &    2.36000 &    1.32000 &    16.9800 &    16.44 &    17.6000 &    1755.48000 &    2368.66000 &    1059.428571 \\\\\n",
      "2 &    7.42 &    7.54000 &    5.88000 &    42.7000 &    39.80 &    38.6200 &    3340.54000 &    4590.54000 &    2133.959184 \\\\\n",
      "3 &  308.42 &  314.38000 &  270.44000 &  1939.3400 &  1958.00 &  2056.1600 &  237985.88000 &  317513.48000 &  147487.285714 \\\\\n",
      "4 &    4.08 &    4.26000 &    2.14000 &   110.7400 &   115.90 &   118.6800 &   34238.18000 &   49638.44000 &   21376.959184 \\\\\n",
      "5 &   19.00 &   19.00000 &   19.00000 &    19.0200 &    19.02 &    19.0200 &      22.00000 &      22.00000 &      22.000000 \\\\\n",
      "6 &    0.00 &    0.00008 &    0.00008 &     0.0004 &     0.00 &     0.0008 &       0.04128 &       0.05296 &       0.028000 \\\\\n",
      "\\bottomrule\n",
      "\\end{tabular}\n",
      "\n"
     ]
    }
   ],
   "source": [
    "#MINISAT Deterministic Minimal \n",
    "folder = \"AllOut/minOut/\"\n",
    "list_alles = ['MiniE', 'MiniM', 'MiniH', 'NormalE', 'NormalM', 'NormalH', 'LargeE', 'LargeM', 'LargeH']\n",
    "alles = []\n",
    "for aa in list_alles: \n",
    "    total_stats = []\n",
    "    for file in os.listdir(folder+aa+'/'): \n",
    "        f = open(folder+aa+'/'+file, \"r\")\n",
    "        f = f.read();\n",
    "        f = f.split('=')\n",
    "        f = [x for x in f if x]\n",
    "        stats = f[-1]\n",
    "        stats = re.sub('\\(.*\\)', '', stats)\n",
    "        stats = stats.strip()\n",
    "        stats = stats.split('\\n')\n",
    "        all_stats = []\n",
    "        for st in stats[:-2]: \n",
    "            num_stats = st.split(':')[1]\n",
    "            num_stats = re.sub('MB', '', num_stats)\n",
    "            num_stats = re.sub('s', '', num_stats).strip()\n",
    "            all_stats.append(float(num_stats))\n",
    "        total_stats.append(all_stats)\n",
    "    alles.append(np.mean(total_stats, axis=0))\n",
    "print(pd.DataFrame(alles).T.to_latex())"
   ]
  },
  {
   "cell_type": "code",
   "execution_count": 131,
   "metadata": {
    "collapsed": false
   },
   "outputs": [
    {
     "name": "stdout",
     "output_type": "stream",
     "text": [
      "\\begin{tabular}{lrrrrrrrrr}\n",
      "\\toprule\n",
      "{} &       0 &       1 &       2 &           3 &        4 &           5 &             6 &            7 &              8 \\\\\n",
      "\\midrule\n",
      "0 &    1.00 &    1.00 &    1.00 &     1.04000 &     1.06 &     1.02000 &      11.08000 &      12.8000 &       6.938776 \\\\\n",
      "1 &    3.12 &    2.82 &    1.88 &    24.46000 &    23.64 &    25.34000 &    2058.80000 &    2268.8000 &    1021.571429 \\\\\n",
      "2 &   10.76 &    8.84 &    7.40 &    66.68000 &    60.00 &    66.74000 &    5128.64000 &    5905.8000 &    2793.530612 \\\\\n",
      "3 &  342.82 &  341.48 &  283.76 &  2659.96000 &  2706.04 &  2635.92000 &  283085.26000 &  316784.9600 &  150254.387755 \\\\\n",
      "4 &    7.78 &    5.74 &    3.48 &   170.60000 &   173.96 &   176.34000 &   40422.38000 &   46728.2400 &   18266.673469 \\\\\n",
      "5 &   19.00 &   19.00 &   19.00 &    19.02000 &    19.02 &    19.02000 &      22.02000 &      22.0000 &      22.000000 \\\\\n",
      "6 &    0.00 &    0.00 &    0.00 &     0.00024 &     0.00 &     0.00008 &       0.05424 &       0.0564 &       0.027673 \\\\\n",
      "\\bottomrule\n",
      "\\end{tabular}\n",
      "\n"
     ]
    }
   ],
   "source": [
    "#MINISAT NonDeterministic Minimal\n",
    "folder = \"AllOut/minOutND/\"\n",
    "list_alles = ['MiniE', 'MiniM', 'MiniH', 'NormalE', 'NormalM', 'NormalH', 'LargeE', 'LargeM', 'LargeH']\n",
    "alles = []\n",
    "for aa in list_alles: \n",
    "    total_stats = []\n",
    "    for file in os.listdir(folder+aa+'/'): \n",
    "        f = open(folder+aa+'/'+file, \"r\")\n",
    "        f = f.read();\n",
    "        f = f.split('=')\n",
    "        f = [x for x in f if x]\n",
    "        stats = f[-1]\n",
    "        stats = re.sub('\\(.*\\)', '', stats)\n",
    "        stats = stats.strip()\n",
    "        stats = stats.split('\\n')\n",
    "        all_stats = []\n",
    "        for st in stats[:-2]: \n",
    "            num_stats = st.split(':')[1]\n",
    "            num_stats = re.sub('MB', '', num_stats)\n",
    "            num_stats = re.sub('s', '', num_stats).strip()\n",
    "            all_stats.append(float(num_stats))\n",
    "        total_stats.append(all_stats)\n",
    "    alles.append(np.mean(total_stats, axis=0))\n",
    "print(pd.DataFrame(alles).T.to_latex())"
   ]
  },
  {
   "cell_type": "code",
   "execution_count": 132,
   "metadata": {
    "collapsed": false
   },
   "outputs": [
    {
     "name": "stdout",
     "output_type": "stream",
     "text": [
      "\\begin{tabular}{lrrrrrrrrr}\n",
      "\\toprule\n",
      "{} &       0 &       1 &       2 &          3 &          4 &          5 &           6 &           7 &            8 \\\\\n",
      "\\midrule\n",
      "0 &    1.00 &    1.00 &    1.00 &    1.00000 &    1.00000 &    1.00000 &     1.00000 &     1.00000 &     1.000000 \\\\\n",
      "1 &    0.52 &    0.88 &    0.80 &    1.14000 &    1.02000 &    1.28000 &     6.22000 &    15.58000 &     9.102041 \\\\\n",
      "2 &    2.36 &    2.86 &    2.54 &    4.26000 &    4.58000 &    4.52000 &    28.12000 &    55.18000 &    31.244898 \\\\\n",
      "3 &  227.22 &  243.28 &  230.10 &  777.74000 &  775.98000 &  793.86000 &  4847.88000 &  6031.08000 &  5334.877551 \\\\\n",
      "4 &    0.62 &    1.18 &    1.06 &    1.90000 &    1.96000 &    2.84000 &    35.82000 &   123.98000 &    66.428571 \\\\\n",
      "5 &   19.00 &   19.00 &   19.00 &   19.02000 &   19.06000 &   19.06000 &    23.00000 &    23.00000 &    23.000000 \\\\\n",
      "6 &    0.00 &    0.00 &    0.00 &    0.00032 &    0.00016 &    0.00016 &     0.01544 &     0.01648 &     0.017224 \\\\\n",
      "\\bottomrule\n",
      "\\end{tabular}\n",
      "\n"
     ]
    }
   ],
   "source": [
    "#MINISAT NonDeterministic Extended \n",
    "folder = \"AllOut/NormOutND/\"\n",
    "list_alles = ['MiniE', 'MiniM', 'MiniH', 'NormalE', 'NormalM', 'NormalH', 'LargeE', 'LargeM', 'LargeH']\n",
    "alles = []\n",
    "for aa in list_alles: \n",
    "    total_stats = []\n",
    "    for file in os.listdir(folder+aa+'/'): \n",
    "        f = open(folder+aa+'/'+file, \"r\")\n",
    "        f = f.read();\n",
    "        f = f.split('=')\n",
    "        f = [x for x in f if x]\n",
    "        stats = f[-1]\n",
    "        stats = re.sub('\\(.*\\)', '', stats)\n",
    "        stats = stats.strip()\n",
    "        stats = stats.split('\\n')\n",
    "        all_stats = []\n",
    "        for st in stats[:-2]: \n",
    "            num_stats = st.split(':')[1]\n",
    "            num_stats = re.sub('MB', '', num_stats)\n",
    "            num_stats = re.sub('s', '', num_stats).strip()\n",
    "            all_stats.append(float(num_stats))\n",
    "        total_stats.append(all_stats)\n",
    "    alles.append(np.mean(total_stats, axis=0))\n",
    "print(pd.DataFrame(alles).T.to_latex())"
   ]
  },
  {
   "cell_type": "code",
   "execution_count": 144,
   "metadata": {
    "collapsed": false,
    "scrolled": true
   },
   "outputs": [
    {
     "name": "stdout",
     "output_type": "stream",
     "text": [
      "\\begin{tabular}{lrrrrrrrrr}\n",
      "\\toprule\n",
      "{} &       0 &       1 &       2 &       3 &          4 &           5 &            6 &            7 &            8 \\\\\n",
      "\\midrule\n",
      "0 &    0.00 &    0.00 &    0.00 &   0.000 &   0.000000 &    0.000000 &     0.018944 &     0.022252 &     0.008486 \\\\\n",
      "1 &    0.00 &    0.00 &    0.00 &   0.302 &   0.597059 &    0.753922 &    19.099068 &    20.386755 &    17.514220 \\\\\n",
      "2 &    0.00 &    0.00 &    0.00 &  18.830 &  31.980392 &   40.127451 &   701.717391 &   723.569536 &   658.451835 \\\\\n",
      "3 &  100.00 &  100.00 &  100.00 &  98.457 &  97.791176 &   97.307843 &    95.375621 &    95.647417 &    95.388532 \\\\\n",
      "4 &    0.00 &    0.00 &    0.00 &   5.300 &   8.666667 &   10.705882 &   150.119565 &   152.513907 &   141.598624 \\\\\n",
      "5 &    4.26 &    3.88 &    3.44 &  25.100 &  24.696078 &   26.441176 &  1283.690994 &  1472.052980 &   822.894495 \\\\\n",
      "6 &    0.00 &    0.00 &    0.00 &   0.670 &   3.872549 &    4.921569 &   879.330745 &   942.839735 &   665.672018 \\\\\n",
      "7 &    0.00 &    0.00 &    0.00 &  50.000 &  91.176471 &  110.784314 &  1642.737578 &  1720.846358 &  1377.667431 \\\\\n",
      "8 &    0.00 &    0.00 &    0.00 &   0.074 &   0.378431 &    0.453922 &     9.981211 &    10.109801 &     9.237385 \\\\\n",
      "9 &    0.10 &    0.10 &    0.10 &   0.300 &   0.300000 &    0.300000 &     2.824534 &     2.832450 &     2.791055 \\\\\n",
      "\\bottomrule\n",
      "\\end{tabular}\n",
      "\n"
     ]
    }
   ],
   "source": [
    "# PYCOSAT Efficient\n",
    "import re\n",
    "folder = 'pycosatOut/Eff/'\n",
    "total_stats = []\n",
    "for file in os.listdir(folder): \n",
    "    f = open(folder+file, \"r\")\n",
    "    f = f.read();\n",
    "    f = re.sub('\\[(\\w|,|-|\\s)*\\]', '', f)\n",
    "    f = f.split('\\nc')\n",
    "    stat_list = []\n",
    "    for i in f: \n",
    "        if len(i.split('\\n')[0]) == 63: \n",
    "            stat_list.append(i.split('\\n')[0])\n",
    "    all_stats = []\n",
    "    for new_stat in stat_list: \n",
    "        new_stat = new_stat.split(' ')[2:]\n",
    "        new_stat = [float(x) for x in new_stat if x]\n",
    "        all_stats.append(new_stat)\n",
    "    total_stats.append(np.mean(all_stats, axis=0))\n",
    "print(pd.DataFrame(total_stats).T.to_latex())"
   ]
  },
  {
   "cell_type": "code",
   "execution_count": 145,
   "metadata": {
    "collapsed": false,
    "scrolled": true
   },
   "outputs": [
    {
     "name": "stdout",
     "output_type": "stream",
     "text": [
      "\\begin{tabular}{lrrrrrrrrr}\n",
      "\\toprule\n",
      "{} &       0 &        1 &        2 &       3 &       4 &       5 &       6 &      7 &           8 \\\\\n",
      "\\midrule\n",
      "0 &    0.00 &    0.000 &    0.000 &    0.00 &    0.00 &    0.00 &    0.00 &    0.0 &    0.000000 \\\\\n",
      "1 &    0.00 &    0.000 &    0.000 &    0.00 &    0.00 &    0.00 &    0.00 &    0.0 &    0.000000 \\\\\n",
      "2 &   65.88 &   65.280 &   64.460 &    0.00 &    0.00 &    0.00 &    0.00 &    0.0 &    0.000000 \\\\\n",
      "3 &   69.49 &   69.776 &   70.154 &  100.00 &  100.00 &  100.00 &  100.00 &  100.0 &  100.000000 \\\\\n",
      "4 &  132.00 &  132.000 &  132.000 &    0.00 &    0.00 &    0.00 &    0.00 &    0.0 &    0.000000 \\\\\n",
      "5 &    1.00 &    1.000 &    1.000 &    2.56 &    2.76 &    2.96 &   12.74 &   33.1 &   16.673469 \\\\\n",
      "6 &    0.00 &    0.000 &    0.000 &    0.00 &    0.00 &    0.00 &    0.00 &    0.0 &    0.000000 \\\\\n",
      "7 &    0.00 &    0.000 &    0.000 &    0.00 &    0.00 &    0.00 &    0.00 &    0.0 &    0.000000 \\\\\n",
      "8 &    0.00 &    0.000 &    0.000 &    0.00 &    0.00 &    0.00 &    0.00 &    0.0 &    0.000000 \\\\\n",
      "9 &    0.10 &    0.100 &    0.100 &    0.30 &    0.30 &    0.30 &    2.70 &    2.7 &    2.700000 \\\\\n",
      "\\bottomrule\n",
      "\\end{tabular}\n",
      "\n"
     ]
    }
   ],
   "source": [
    "# PYCOSAT Extended\n",
    "import re\n",
    "folder = 'pycosatOut/Extend/'\n",
    "total_stats = []\n",
    "for file in os.listdir(folder): \n",
    "    f = open(folder+file, \"r\")\n",
    "    f = f.read();\n",
    "    f = re.sub('\\[(\\w|,|-|\\s)*\\]', '', f)\n",
    "    f = f.split('\\nc')\n",
    "    stat_list = []\n",
    "    for i in f: \n",
    "        if len(i.split('\\n')[0]) == 63: \n",
    "            stat_list.append(i.split('\\n')[0])\n",
    "    all_stats = []\n",
    "    for new_stat in stat_list: \n",
    "        new_stat = new_stat.split(' ')[2:]\n",
    "        new_stat = [float(x) for x in new_stat if x]\n",
    "        all_stats.append(new_stat)\n",
    "    total_stats.append(np.mean(all_stats, axis=0))\n",
    "print(pd.DataFrame(total_stats).T.to_latex())"
   ]
  },
  {
   "cell_type": "code",
   "execution_count": 146,
   "metadata": {
    "collapsed": false,
    "scrolled": true
   },
   "outputs": [
    {
     "name": "stdout",
     "output_type": "stream",
     "text": [
      "\\begin{tabular}{lrrrrrrrrr}\n",
      "\\toprule\n",
      "{} &       0 &       1 &      2 &       3 &          4 &           5 &            6 &            7 &            8 \\\\\n",
      "\\midrule\n",
      "0 &    0.00 &    0.00 &    0.0 &   0.000 &   0.000000 &    0.000000 &     0.023065 &     0.026856 &     0.006452 \\\\\n",
      "1 &    0.00 &    0.00 &    0.0 &   0.389 &   0.649020 &    0.785149 &    21.335604 &    22.528837 &    18.602151 \\\\\n",
      "2 &    0.00 &    0.00 &    0.0 &  24.180 &  40.225490 &   49.475248 &  1088.340557 &  1122.367574 &  1025.673118 \\\\\n",
      "3 &  100.00 &  100.00 &  100.0 &  97.970 &  96.763725 &   96.216832 &    86.256502 &    86.076485 &    86.497634 \\\\\n",
      "4 &    0.00 &    0.00 &    0.0 &   5.300 &   8.666667 &   10.247525 &   150.000000 &   152.075495 &   141.718280 \\\\\n",
      "5 &    6.98 &    6.44 &    5.0 &  47.290 &  46.941176 &   49.871287 &  1413.702786 &  1421.884901 &   778.109677 \\\\\n",
      "6 &    0.00 &    0.00 &    0.0 &   0.610 &   4.098039 &    3.643564 &   905.592879 &   936.408416 &   673.105376 \\\\\n",
      "7 &    0.00 &    0.00 &    0.0 &  50.000 &  91.176471 &  100.990099 &  1677.987616 &  1721.220297 &  1370.335484 \\\\\n",
      "8 &    0.00 &    0.00 &    0.0 &   0.065 &   0.366667 &    0.335644 &     6.373065 &     6.386015 &     5.933333 \\\\\n",
      "9 &    0.10 &    0.10 &    0.1 &   0.300 &   0.300000 &    0.300000 &     2.740712 &     2.746287 &     2.702796 \\\\\n",
      "\\bottomrule\n",
      "\\end{tabular}\n",
      "\n"
     ]
    }
   ],
   "source": [
    "# PYCOSAT Minimal\n",
    "import re\n",
    "folder = 'pycosatOut/Min/'\n",
    "total_stats = []\n",
    "for file in os.listdir(folder): \n",
    "    f = open(folder+file, \"r\")\n",
    "    f = f.read();\n",
    "    f = re.sub('\\[(\\w|,|-|\\s)*\\]', '', f)\n",
    "    f = f.split('\\nc')\n",
    "    stat_list = []\n",
    "    for i in f: \n",
    "        if len(i.split('\\n')[0]) == 63: \n",
    "            stat_list.append(i.split('\\n')[0])\n",
    "    all_stats = []\n",
    "    for new_stat in stat_list: \n",
    "        new_stat = new_stat.split(' ')[2:]\n",
    "        new_stat = [float(x) for x in new_stat if x]\n",
    "        all_stats.append(new_stat)\n",
    "    total_stats.append(np.mean(all_stats, axis=0))\n",
    "print(pd.DataFrame(total_stats).T.to_latex())"
   ]
  },
  {
   "cell_type": "code",
   "execution_count": null,
   "metadata": {
    "collapsed": true
   },
   "outputs": [],
   "source": []
  }
 ],
 "metadata": {
  "kernelspec": {
   "display_name": "Python [Root]",
   "language": "python",
   "name": "Python [Root]"
  },
  "language_info": {
   "codemirror_mode": {
    "name": "ipython",
    "version": 3
   },
   "file_extension": ".py",
   "mimetype": "text/x-python",
   "name": "python",
   "nbconvert_exporter": "python",
   "pygments_lexer": "ipython3",
   "version": "3.5.2"
  }
 },
 "nbformat": 4,
 "nbformat_minor": 0
}
